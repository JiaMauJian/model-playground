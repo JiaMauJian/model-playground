{
 "cells": [
  {
   "cell_type": "code",
   "execution_count": 55,
   "metadata": {},
   "outputs": [],
   "source": [
    "# Backpropagation\n",
    "# 影片看一次 https://www.youtube.com/watch?v=ibJpTrp5mcE\n",
    "# python實作(抄)一次  https://www.youtube.com/watch?v=q555kfIFUCM&t=2s\n",
    "    "
   ]
  },
  {
   "cell_type": "code",
   "execution_count": 56,
   "metadata": {},
   "outputs": [],
   "source": [
    "import numpy as np\n",
    "x = np.array([\n",
    "        [0,0,1],\n",
    "        [0,1,1],\n",
    "        [1,0,1],\n",
    "        [1,1,1]\n",
    "    ])\n",
    "\n",
    "y = np.array([\n",
    "        [0],\n",
    "        [1],\n",
    "        [1],\n",
    "        [0]\n",
    "    ])"
   ]
  },
  {
   "cell_type": "code",
   "execution_count": 57,
   "metadata": {
    "collapsed": true
   },
   "outputs": [],
   "source": [
    "epochs = 60000"
   ]
  },
  {
   "cell_type": "code",
   "execution_count": 58,
   "metadata": {},
   "outputs": [
    {
     "name": "stdout",
     "output_type": "stream",
     "text": [
      "[[-0.51298588  0.95943061 -0.53982614  0.34497632]\n",
      " [-0.03026859 -0.36448621  0.30366604  0.73792319]\n",
      " [ 0.08978935  0.09225067 -0.58144177  0.00866042]]\n",
      "[[-0.14409916]\n",
      " [-0.7625425 ]\n",
      " [ 0.00603933]\n",
      " [ 0.18703952]]\n"
     ]
    }
   ],
   "source": [
    "# 配合sigmoid 產生-1~1之間的亂數\n",
    "w0 = 2*np.random.random((3, 4))-1 #這裡先做了轉置\n",
    "w1 = 2*np.random.random((4, 1))-1\n",
    "\n",
    "print(w0)\n",
    "print(w1)"
   ]
  },
  {
   "cell_type": "code",
   "execution_count": 59,
   "metadata": {},
   "outputs": [],
   "source": [
    "def sigmoid(x):\n",
    "    return 1/(1+np.exp(-x))\n",
    "\n",
    "def dsigmoid(x):\n",
    "    return x*(1-x)"
   ]
  },
  {
   "cell_type": "code",
   "execution_count": 60,
   "metadata": {},
   "outputs": [
    {
     "name": "stdout",
     "output_type": "stream",
     "text": [
      "Error:0.498981634666\n",
      "Error:0.0109409062473\n",
      "Error:0.00717448723262\n",
      "Error:0.00565535575963\n",
      "Error:0.00479168653991\n",
      "Error:0.0042200596379\n"
     ]
    }
   ],
   "source": [
    "for j in range(epochs):\n",
    "    # Forward Pass\n",
    "    L0 = x\n",
    "    L1 = sigmoid(np.dot(L0, w0))\n",
    "    L2 = sigmoid(np.dot(L1, w1))\n",
    "\n",
    "    # Error\n",
    "    L2_error = y - L2\n",
    "\n",
    "    if (j % 10000) == 0:\n",
    "        print(\"Error:\" + str(np.mean(np.abs(L2_error))))\n",
    "\n",
    "    # Backward Pass\n",
    "    # case 1 : output layer\n",
    "    L2_error = y - L2\n",
    "    L2_delta = -L2_error * dsigmoid(L2) #微分後應該要加負號 https://mattmazur.com/2015/03/17/a-step-by-step-backpropagation-example/\n",
    "    \n",
    "    # case 2 : not output layer\n",
    "    L1_error = np.dot(L2_delta, w1.T)\n",
    "    L1_delta = L1_error * dsigmoid(L1)\n",
    "\n",
    "    # Forward Pass * Backward Pass\n",
    "    w1 = w1 - np.dot(L1.T, L2_delta) #原作者用加的，因為它省略前面的負號，負負得正\n",
    "    w0 = w0 - np.dot(L0.T, L1_delta)"
   ]
  },
  {
   "cell_type": "code",
   "execution_count": 61,
   "metadata": {},
   "outputs": [
    {
     "name": "stdout",
     "output_type": "stream",
     "text": [
      "[[ 0.0015232 ]\n",
      " [ 0.99578136]\n",
      " [ 0.99541593]\n",
      " [ 0.00490356]]\n"
     ]
    }
   ],
   "source": [
    "print(L2)"
   ]
  },
  {
   "cell_type": "code",
   "execution_count": 62,
   "metadata": {},
   "outputs": [
    {
     "name": "stdout",
     "output_type": "stream",
     "text": [
      "[[0]\n",
      " [1]\n",
      " [1]\n",
      " [0]]\n"
     ]
    }
   ],
   "source": [
    "print(y)"
   ]
  },
  {
   "cell_type": "code",
   "execution_count": null,
   "metadata": {
    "collapsed": true
   },
   "outputs": [],
   "source": []
  }
 ],
 "metadata": {
  "anaconda-cloud": {},
  "kernelspec": {
   "display_name": "Python 3",
   "language": "python",
   "name": "python3"
  },
  "language_info": {
   "codemirror_mode": {
    "name": "ipython",
    "version": 3
   },
   "file_extension": ".py",
   "mimetype": "text/x-python",
   "name": "python",
   "nbconvert_exporter": "python",
   "pygments_lexer": "ipython3",
   "version": "3.6.2"
  }
 },
 "nbformat": 4,
 "nbformat_minor": 1
}
