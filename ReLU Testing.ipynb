{
 "cells": [
  {
   "cell_type": "code",
   "execution_count": 1,
   "metadata": {
    "collapsed": false,
    "deletable": true,
    "editable": true
   },
   "outputs": [
    {
     "name": "stderr",
     "output_type": "stream",
     "text": [
      "Using TensorFlow backend.\n"
     ]
    },
    {
     "data": {
      "image/png": "[encoded data removed]",
      "text/plain": [
       "<matplotlib.figure.Figure at 0x7f5e9a45e210>"
      ]
     },
     "metadata": {},
     "output_type": "display_data"
    },
    {
     "name": "stdout",
     "output_type": "stream",
     "text": [
      "('W1 : ', array([[ 0.55520886]], dtype=float32), 0)\n",
      "('W1 : ', array([[ 0.33480951]], dtype=float32), 100)\n",
      "('W1 : ', array([[ 0.2813186]], dtype=float32), 200)\n",
      "('W1 : ', array([[ 0.27574414]], dtype=float32), 300)\n",
      "('W1 : ', array([[ 0.27515709]], dtype=float32), 400)\n",
      "('W1 : ', array([[ 0.27509513]], dtype=float32), 500)\n",
      "('W1 : ', array([[ 0.27508837]], dtype=float32), 600)\n",
      "('W1 : ', array([[ 0.27508825]], dtype=float32), 700)\n",
      "('W1 : ', array([[ 0.27508825]], dtype=float32), 800)\n",
      "('W1 : ', array([[ 0.27508825]], dtype=float32), 900)\n"
     ]
    }
   ],
   "source": [
    "import numpy as np\n",
    "np.random.seed(1337)  # for reproducibility\n",
    "\n",
    "from keras.models import Sequential\n",
    "from keras.layers import Dense\n",
    "from keras.optimizers import SGD\n",
    "import matplotlib.pyplot as plt\n",
    "\n",
    "# layers\n",
    "class ReLU:\n",
    "    def __init__(self):\n",
    "        self.mask = None\n",
    "\n",
    "    def forward(self, x):\n",
    "        self.mask = (x <= 0)\n",
    "        out = x.copy()\n",
    "        out[self.mask] = 0\n",
    "\n",
    "        return out\n",
    "\n",
    "    def backward(self, dout):\n",
    "        dout[self.mask] = 0\n",
    "        dx = dout\n",
    "\n",
    "        return dout\n",
    "    \n",
    "class Affine:\n",
    "    def __init__(self, W, b):\n",
    "        self.W =W\n",
    "        self.b = b\n",
    "        \n",
    "        self.x = None\n",
    "        self.original_x_shape = None        \n",
    "        self.dW = None\n",
    "        self.db = None\n",
    "\n",
    "    def forward(self, x):\n",
    "        self.original_x_shape = x.shape\n",
    "        x = x.reshape(x.shape[0], -1)\n",
    "        self.x = x\n",
    "\n",
    "        out = np.dot(self.x, self.W) + self.b\n",
    "\n",
    "        return out\n",
    "\n",
    "    def backward(self, dout):\n",
    "        dx = np.dot(dout, self.W.T)\n",
    "        self.dW = np.dot(self.x.T, dout)\n",
    "        self.db = np.sum(dout, axis=0)\n",
    "        \n",
    "        dx = dx.reshape(*self.original_x_shape)\n",
    "        return dx\n",
    "    \n",
    "# create data\n",
    "X = np.linspace(-1, 1, 200)\n",
    "np.random.shuffle(X)    # randomize the data\n",
    "Y = -(0.5 * X + 2 + np.random.normal(0, 0.05, (200, )))\n",
    "\n",
    "# plot data\n",
    "plt.scatter(X, Y)\n",
    "plt.show()\n",
    "\n",
    "X_train, Y_train = X[:160], Y[:160]     # first 160 data points\n",
    "X_test, Y_test = X[160:], Y[160:]       # last 40 data points\n",
    "\n",
    "# build a neural network from the 1st layer to the last layer\n",
    "model = Sequential()\n",
    "\n",
    "# relu expertment\n",
    "model.add(Dense(units=1, activation='relu', input_dim=1)) \n",
    "model.add(Dense(units=1)) \n",
    "\n",
    "# choose loss function and optimizing method\n",
    "model.compile(loss='mse', optimizer=SGD(lr=0.01))\n",
    "\n",
    "#model.fit(X_train, Y_train, batch_size = 10, epochs = 20)\n",
    "\n",
    "#'''\n",
    "# fit model by loop\n",
    "for i in range(1000):\n",
    "    model.train_on_batch(X_train, Y_train)\n",
    "    W1, b1 = model.layers[0].get_weights()\n",
    "    W2, b1 = model.layers[0].get_weights()\n",
    "    if i % 100 == 0:\n",
    "        print('W1 : ', W1, i) # W1 shoud be 0.27508825    \n",
    "    if i == 998:        \n",
    "        lastTwoW1 = W1\n",
    "        lastTwoW2 = W2\n",
    "    if i == 999:        \n",
    "        lastOneW1 = W1\n",
    "        lastOneW2 = W2\n",
    "#'''"
   ]
  },
  {
   "cell_type": "code",
   "execution_count": 2,
   "metadata": {
    "collapsed": false,
    "deletable": true,
    "editable": true
   },
   "outputs": [
    {
     "name": "stdout",
     "output_type": "stream",
     "text": [
      "('mes: ', 0.0026214294813137482)\n"
     ]
    }
   ],
   "source": [
    "W1, b1 = model.layers[0].get_weights()\n",
    "W2, b2 = model.layers[1].get_weights()\n",
    "affine1 = Affine(W1, b1)\n",
    "relu = ReLU()\n",
    "affine2 = Affine(W2, b2)\n",
    "\n",
    "# forwoard\n",
    "affine_f1 = affine1.forward(X_train)\n",
    "relu_f = relu.forward(affine_f1)\n",
    "affine_f2 = affine2.forward(relu_f)\n",
    "\n",
    "Y_train = Y_train.reshape(160, 1)\n",
    "print('mes: ', np.mean((affine_f2 - Y_train)**2)) #loss shoud be 0.0027\n",
    "\n",
    "# backwoard\n",
    "dy = 0.5 * (Y_train - affine_f2) # dL/dw = 1/2*(y-yhat)\n",
    "affine_b2 = affine2.backward(dy)\n",
    "relu_b = relu.backward(affine_b2)\n",
    "affine_b1 = affine1.backward(relu_b)"
   ]
  },
  {
   "cell_type": "code",
   "execution_count": 3,
   "metadata": {
    "collapsed": false,
    "deletable": true,
    "editable": true
   },
   "outputs": [
    {
     "data": {
      "text/plain": [
       "array([[ -5.98517423e-05]])"
      ]
     },
     "execution_count": 3,
     "metadata": {},
     "output_type": "execute_result"
    }
   ],
   "source": [
    "affine1.dW # almost equal 0"
   ]
  },
  {
   "cell_type": "code",
   "execution_count": 4,
   "metadata": {
    "collapsed": false,
    "deletable": true,
    "editable": true
   },
   "outputs": [
    {
     "data": {
      "text/plain": [
       "array([[ 0.]], dtype=float32)"
      ]
     },
     "execution_count": 4,
     "metadata": {},
     "output_type": "execute_result"
    }
   ],
   "source": [
    "#https://github.com/fchollet/keras/issues/2226\n",
    "#dE/dW = (w[i] - w[i+1])/learning_rate\n",
    "\n",
    "(lastOneW1 - lastTwoW1) / 0.01 # verify dW result"
   ]
  },
  {
   "cell_type": "code",
   "execution_count": null,
   "metadata": {
    "collapsed": true,
    "deletable": true,
    "editable": true
   },
   "outputs": [],
   "source": []
  }
 ],
 "metadata": {
  "kernelspec": {
   "display_name": "Python 2",
   "language": "python",
   "name": "python2"
  },
  "language_info": {
   "codemirror_mode": {
    "name": "ipython",
    "version": 2
   },
   "file_extension": ".py",
   "mimetype": "text/x-python",
   "name": "python",
   "nbconvert_exporter": "python",
   "pygments_lexer": "ipython2",
   "version": "2.7.13"
  }
 },
 "nbformat": 4,
 "nbformat_minor": 2
}
