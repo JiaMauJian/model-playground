{
 "cells": [
  {
   "cell_type": "code",
   "execution_count": 269,
   "metadata": {
    "collapsed": false
   },
   "outputs": [
    {
     "name": "stdout",
     "output_type": "stream",
     "text": [
      "[-0.70854271]\n",
      "[[-1.37442088]\n",
      " [-0.94376338]]\n"
     ]
    }
   ],
   "source": [
    "import numpy as np\n",
    "np.random.seed(1337)  # for reproducibility\n",
    "\n",
    "from keras.models import Sequential\n",
    "from keras.layers import Dense\n",
    "from keras.optimizers import SGD\n",
    "import matplotlib.pyplot as plt\n",
    "\n",
    "# layers\n",
    "class ReLU:\n",
    "    def __init__(self):\n",
    "        self.mask = None\n",
    "\n",
    "    def forward(self, x):\n",
    "        self.mask = (x <= 0)\n",
    "        out = x.copy()\n",
    "        out[self.mask] = 0\n",
    "\n",
    "        return out\n",
    "\n",
    "    def backward(self, dout):\n",
    "        dout[self.mask] = 0\n",
    "        dx = dout\n",
    "\n",
    "        return dout\n",
    "    \n",
    "class Affine:\n",
    "    def __init__(self, W, b):\n",
    "        self.W =W\n",
    "        self.b = b\n",
    "        \n",
    "        self.x = None\n",
    "        self.original_x_shape = None        \n",
    "        self.dW = None\n",
    "        self.db = None\n",
    "\n",
    "    def forward(self, x):\n",
    "        self.original_x_shape = x.shape\n",
    "        x = x.reshape(x.shape[0], -1)\n",
    "        self.x = x\n",
    "\n",
    "        out = np.dot(self.x, self.W) + self.b\n",
    "\n",
    "        return out\n",
    "\n",
    "    def backward(self, dout):\n",
    "        dx = np.dot(dout, self.W.T)\n",
    "        self.dW = np.dot(self.x.T, dout)\n",
    "        self.db = np.sum(dout, axis=0)\n",
    "        \n",
    "        dx = dx.reshape(*self.original_x_shape)\n",
    "        return dx\n",
    "    \n",
    "# create data\n",
    "X = np.linspace(-1, 1, 200)\n",
    "np.random.shuffle(X)    # randomize the data\n",
    "Y = -(0.5 * X + 2 + np.random.normal(0, 0.05, (200, )))\n",
    "\n",
    "# plot data\n",
    "#plt.scatter(X, Y)\n",
    "#plt.show()\n",
    "\n",
    "X_train, Y_train = X[:1], Y[:1]     # first 160 data points\n",
    "print (X_train)\n",
    "X_test, Y_test = X[160:], Y[160:]       # last 40 data points\n",
    "\n",
    "# build a neural network from the 1st layer to the last layer\n",
    "model = Sequential()\n",
    "\n",
    "# relu expertment\n",
    "model.add(Dense(units=2, activation='relu', input_dim=1)) \n",
    "model.add(Dense(units=1)) \n",
    "\n",
    "# choose loss function and optimizing method\n",
    "model.compile(loss='mse', optimizer=SGD(lr=0.01))\n",
    "\n",
    "model.fit(X_train, Y_train, batch_size = 10, epochs = 20)"
   ]
  },
  {
   "cell_type": "code",
   "execution_count": 318,
   "metadata": {
    "collapsed": false
   },
   "outputs": [
    {
     "name": "stdout",
     "output_type": "stream",
     "text": [
      "No. 0 x data\n",
      "('Layer1 W : ', array([[ 0.44152594,  1.33729184]], dtype=float32))\n",
      "('Layer1 dW : ', array([[ 0.,  0.]]))\n",
      "('relu_f : ', array([[ 0.,  0.]]))\n",
      "No. 1 x data\n",
      "('Layer1 W : ', array([[ 0.44152594,  1.33729184]], dtype=float32))\n",
      "('Layer1 dW : ', array([[ 0.31580914,  0.21685432]]))\n",
      "('relu_f : ', array([[ 0.07765532,  0.23520208]]))\n",
      "No. 2 x data\n",
      "('Layer1 W : ', array([[ 0.44152594,  1.33729184]], dtype=float32))\n",
      "('Layer1 dW : ', array([[ 0.,  0.]]))\n",
      "('relu_f : ', array([[ 0.,  0.]]))\n"
     ]
    }
   ],
   "source": [
    "W1, b1 = model.layers[0].get_weights()\n",
    "W2, b2 = model.layers[1].get_weights()\n",
    "affine1 = Affine(W1, b1)\n",
    "relu = ReLU()\n",
    "affine2 = Affine(W2, b2)\n",
    "\n",
    "# forwoard\n",
    "\n",
    "for i in range(3):\n",
    "    print ('No. ' + str(i) + ' x data')\n",
    "    X_train = X[[i]] \n",
    "    affine_f1 = affine1.forward(X_train)\n",
    "    relu_f = relu.forward(affine_f1)\n",
    "    affine_f2 = affine2.forward(relu_f)\n",
    "\n",
    "    Y_train = Y_train.reshape(1, 1)\n",
    "\n",
    "    # backwoard\n",
    "    dy = Y_train - affine_f2\n",
    "    affine_b2 = affine2.backward(dy)\n",
    "    relu_b = relu.backward(affine_b2)\n",
    "    affine_b1 = affine1.backward(relu_b)\n",
    "\n",
    "    print ('Layer1 W : ', affine1.W)\n",
    "    print ('Layer1 dW : ', affine1.dW)\n",
    "    print ('relu_f : ', relu_f)\n",
    "    \n",
    "# 一直以為這樣ReLU會造成weight=0，那這樣x都乘上0不就都沒辦法訓練，\n",
    "# 但觀察每筆x data的dW結果，當dW=0時頂多不會update W，並不會影響下一筆x data training\n",
    "# 重點在Backforward後，ReLU是讓dW=0不是W=0"
   ]
  }
 ],
 "metadata": {
  "kernelspec": {
   "display_name": "Python 2",
   "language": "python",
   "name": "python2"
  },
  "language_info": {
   "codemirror_mode": {
    "name": "ipython",
    "version": 2
   },
   "file_extension": ".py",
   "mimetype": "text/x-python",
   "name": "python",
   "nbconvert_exporter": "python",
   "pygments_lexer": "ipython2",
   "version": "2.7.13"
  }
 },
 "nbformat": 4,
 "nbformat_minor": 2
}
